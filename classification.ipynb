{
 "cells": [
  {
   "cell_type": "code",
   "execution_count": 1,
   "metadata": {},
   "outputs": [
    {
     "name": "stderr",
     "output_type": "stream",
     "text": [
      "C:\\Users\\Chasing\\AppData\\Local\\Temp\\ipykernel_6008\\2616385390.py:2: DeprecationWarning: \n",
      "Pyarrow will become a required dependency of pandas in the next major release of pandas (pandas 3.0),\n",
      "(to allow more performant data types, such as the Arrow string type, and better interoperability with other libraries)\n",
      "but was not found to be installed on your system.\n",
      "If this would cause problems for you,\n",
      "please provide us feedback at https://github.com/pandas-dev/pandas/issues/54466\n",
      "        \n",
      "  import pandas as pd\n"
     ]
    }
   ],
   "source": [
    "import numpy as np\n",
    "import pandas as pd\n",
    "import matplotlib.pyplot as plt\n",
    "from sklearn.preprocessing import StandardScaler\n",
    "from imblearn.over_sampling import RandomOverSampler"
   ]
  },
  {
   "cell_type": "markdown",
   "metadata": {},
   "source": [
    "### Dataset:\n",
    "Dua, D. and Graff, C. (2019). UCI Machine Learning Repository [http://archive.ics.uci.edu/ml]. Irvine, CA: University of California, School of Information and Computer Science.\n",
    "\n",
    "Donated by: P. Savicky Institute of Computer Science, AS of CR Czech Republic savicky '@' cs.cas.cz"
   ]
  },
  {
   "cell_type": "code",
   "execution_count": 2,
   "metadata": {},
   "outputs": [
    {
     "data": {
      "text/html": [
       "<div>\n",
       "<style scoped>\n",
       "    .dataframe tbody tr th:only-of-type {\n",
       "        vertical-align: middle;\n",
       "    }\n",
       "\n",
       "    .dataframe tbody tr th {\n",
       "        vertical-align: top;\n",
       "    }\n",
       "\n",
       "    .dataframe thead th {\n",
       "        text-align: right;\n",
       "    }\n",
       "</style>\n",
       "<table border=\"1\" class=\"dataframe\">\n",
       "  <thead>\n",
       "    <tr style=\"text-align: right;\">\n",
       "      <th></th>\n",
       "      <th>fLength</th>\n",
       "      <th>fWidth</th>\n",
       "      <th>fSize</th>\n",
       "      <th>fConc</th>\n",
       "      <th>fConc1</th>\n",
       "      <th>fAsym</th>\n",
       "      <th>fM3Long</th>\n",
       "      <th>fM3Trans</th>\n",
       "      <th>fAlpha</th>\n",
       "      <th>fDist</th>\n",
       "      <th>class</th>\n",
       "    </tr>\n",
       "  </thead>\n",
       "  <tbody>\n",
       "    <tr>\n",
       "      <th>0</th>\n",
       "      <td>28.7967</td>\n",
       "      <td>16.0021</td>\n",
       "      <td>2.6449</td>\n",
       "      <td>0.3918</td>\n",
       "      <td>0.1982</td>\n",
       "      <td>27.7004</td>\n",
       "      <td>22.0110</td>\n",
       "      <td>-8.2027</td>\n",
       "      <td>40.0920</td>\n",
       "      <td>81.8828</td>\n",
       "      <td>g</td>\n",
       "    </tr>\n",
       "    <tr>\n",
       "      <th>1</th>\n",
       "      <td>31.6036</td>\n",
       "      <td>11.7235</td>\n",
       "      <td>2.5185</td>\n",
       "      <td>0.5303</td>\n",
       "      <td>0.3773</td>\n",
       "      <td>26.2722</td>\n",
       "      <td>23.8238</td>\n",
       "      <td>-9.9574</td>\n",
       "      <td>6.3609</td>\n",
       "      <td>205.2610</td>\n",
       "      <td>g</td>\n",
       "    </tr>\n",
       "    <tr>\n",
       "      <th>2</th>\n",
       "      <td>162.0520</td>\n",
       "      <td>136.0310</td>\n",
       "      <td>4.0612</td>\n",
       "      <td>0.0374</td>\n",
       "      <td>0.0187</td>\n",
       "      <td>116.7410</td>\n",
       "      <td>-64.8580</td>\n",
       "      <td>-45.2160</td>\n",
       "      <td>76.9600</td>\n",
       "      <td>256.7880</td>\n",
       "      <td>g</td>\n",
       "    </tr>\n",
       "    <tr>\n",
       "      <th>3</th>\n",
       "      <td>23.8172</td>\n",
       "      <td>9.5728</td>\n",
       "      <td>2.3385</td>\n",
       "      <td>0.6147</td>\n",
       "      <td>0.3922</td>\n",
       "      <td>27.2107</td>\n",
       "      <td>-6.4633</td>\n",
       "      <td>-7.1513</td>\n",
       "      <td>10.4490</td>\n",
       "      <td>116.7370</td>\n",
       "      <td>g</td>\n",
       "    </tr>\n",
       "    <tr>\n",
       "      <th>4</th>\n",
       "      <td>75.1362</td>\n",
       "      <td>30.9205</td>\n",
       "      <td>3.1611</td>\n",
       "      <td>0.3168</td>\n",
       "      <td>0.1832</td>\n",
       "      <td>-5.5277</td>\n",
       "      <td>28.5525</td>\n",
       "      <td>21.8393</td>\n",
       "      <td>4.6480</td>\n",
       "      <td>356.4620</td>\n",
       "      <td>g</td>\n",
       "    </tr>\n",
       "  </tbody>\n",
       "</table>\n",
       "</div>"
      ],
      "text/plain": [
       "    fLength    fWidth   fSize   fConc  fConc1     fAsym  fM3Long  fM3Trans  \\\n",
       "0   28.7967   16.0021  2.6449  0.3918  0.1982   27.7004  22.0110   -8.2027   \n",
       "1   31.6036   11.7235  2.5185  0.5303  0.3773   26.2722  23.8238   -9.9574   \n",
       "2  162.0520  136.0310  4.0612  0.0374  0.0187  116.7410 -64.8580  -45.2160   \n",
       "3   23.8172    9.5728  2.3385  0.6147  0.3922   27.2107  -6.4633   -7.1513   \n",
       "4   75.1362   30.9205  3.1611  0.3168  0.1832   -5.5277  28.5525   21.8393   \n",
       "\n",
       "    fAlpha     fDist class  \n",
       "0  40.0920   81.8828     g  \n",
       "1   6.3609  205.2610     g  \n",
       "2  76.9600  256.7880     g  \n",
       "3  10.4490  116.7370     g  \n",
       "4   4.6480  356.4620     g  "
      ]
     },
     "execution_count": 2,
     "metadata": {},
     "output_type": "execute_result"
    }
   ],
   "source": [
    "cols = [\"fLength\", \"fWidth\", \"fSize\", \"fConc\", \"fConc1\", \"fAsym\", \"fM3Long\", \"fM3Trans\", \"fAlpha\", \"fDist\", \"class\"]\n",
    "df = pd.read_csv(\"magic04.data\", names=cols)\n",
    "df.head()"
   ]
  },
  {
   "cell_type": "code",
   "execution_count": 3,
   "metadata": {},
   "outputs": [
    {
     "data": {
      "text/html": [
       "<div>\n",
       "<style scoped>\n",
       "    .dataframe tbody tr th:only-of-type {\n",
       "        vertical-align: middle;\n",
       "    }\n",
       "\n",
       "    .dataframe tbody tr th {\n",
       "        vertical-align: top;\n",
       "    }\n",
       "\n",
       "    .dataframe thead th {\n",
       "        text-align: right;\n",
       "    }\n",
       "</style>\n",
       "<table border=\"1\" class=\"dataframe\">\n",
       "  <thead>\n",
       "    <tr style=\"text-align: right;\">\n",
       "      <th></th>\n",
       "      <th>fLength</th>\n",
       "      <th>fWidth</th>\n",
       "      <th>fSize</th>\n",
       "      <th>fConc</th>\n",
       "      <th>fConc1</th>\n",
       "      <th>fAsym</th>\n",
       "      <th>fM3Long</th>\n",
       "      <th>fM3Trans</th>\n",
       "      <th>fAlpha</th>\n",
       "      <th>fDist</th>\n",
       "      <th>class</th>\n",
       "    </tr>\n",
       "  </thead>\n",
       "  <tbody>\n",
       "    <tr>\n",
       "      <th>0</th>\n",
       "      <td>28.7967</td>\n",
       "      <td>16.0021</td>\n",
       "      <td>2.6449</td>\n",
       "      <td>0.3918</td>\n",
       "      <td>0.1982</td>\n",
       "      <td>27.7004</td>\n",
       "      <td>22.0110</td>\n",
       "      <td>-8.2027</td>\n",
       "      <td>40.0920</td>\n",
       "      <td>81.8828</td>\n",
       "      <td>1</td>\n",
       "    </tr>\n",
       "    <tr>\n",
       "      <th>1</th>\n",
       "      <td>31.6036</td>\n",
       "      <td>11.7235</td>\n",
       "      <td>2.5185</td>\n",
       "      <td>0.5303</td>\n",
       "      <td>0.3773</td>\n",
       "      <td>26.2722</td>\n",
       "      <td>23.8238</td>\n",
       "      <td>-9.9574</td>\n",
       "      <td>6.3609</td>\n",
       "      <td>205.2610</td>\n",
       "      <td>1</td>\n",
       "    </tr>\n",
       "    <tr>\n",
       "      <th>2</th>\n",
       "      <td>162.0520</td>\n",
       "      <td>136.0310</td>\n",
       "      <td>4.0612</td>\n",
       "      <td>0.0374</td>\n",
       "      <td>0.0187</td>\n",
       "      <td>116.7410</td>\n",
       "      <td>-64.8580</td>\n",
       "      <td>-45.2160</td>\n",
       "      <td>76.9600</td>\n",
       "      <td>256.7880</td>\n",
       "      <td>1</td>\n",
       "    </tr>\n",
       "    <tr>\n",
       "      <th>3</th>\n",
       "      <td>23.8172</td>\n",
       "      <td>9.5728</td>\n",
       "      <td>2.3385</td>\n",
       "      <td>0.6147</td>\n",
       "      <td>0.3922</td>\n",
       "      <td>27.2107</td>\n",
       "      <td>-6.4633</td>\n",
       "      <td>-7.1513</td>\n",
       "      <td>10.4490</td>\n",
       "      <td>116.7370</td>\n",
       "      <td>1</td>\n",
       "    </tr>\n",
       "    <tr>\n",
       "      <th>4</th>\n",
       "      <td>75.1362</td>\n",
       "      <td>30.9205</td>\n",
       "      <td>3.1611</td>\n",
       "      <td>0.3168</td>\n",
       "      <td>0.1832</td>\n",
       "      <td>-5.5277</td>\n",
       "      <td>28.5525</td>\n",
       "      <td>21.8393</td>\n",
       "      <td>4.6480</td>\n",
       "      <td>356.4620</td>\n",
       "      <td>1</td>\n",
       "    </tr>\n",
       "  </tbody>\n",
       "</table>\n",
       "</div>"
      ],
      "text/plain": [
       "    fLength    fWidth   fSize   fConc  fConc1     fAsym  fM3Long  fM3Trans  \\\n",
       "0   28.7967   16.0021  2.6449  0.3918  0.1982   27.7004  22.0110   -8.2027   \n",
       "1   31.6036   11.7235  2.5185  0.5303  0.3773   26.2722  23.8238   -9.9574   \n",
       "2  162.0520  136.0310  4.0612  0.0374  0.0187  116.7410 -64.8580  -45.2160   \n",
       "3   23.8172    9.5728  2.3385  0.6147  0.3922   27.2107  -6.4633   -7.1513   \n",
       "4   75.1362   30.9205  3.1611  0.3168  0.1832   -5.5277  28.5525   21.8393   \n",
       "\n",
       "    fAlpha     fDist  class  \n",
       "0  40.0920   81.8828      1  \n",
       "1   6.3609  205.2610      1  \n",
       "2  76.9600  256.7880      1  \n",
       "3  10.4490  116.7370      1  \n",
       "4   4.6480  356.4620      1  "
      ]
     },
     "execution_count": 3,
     "metadata": {},
     "output_type": "execute_result"
    }
   ],
   "source": [
    "df[\"class\"] = (df[\"class\"] == \"g\").astype(int)\n",
    "df.head()"
   ]
  },
  {
   "cell_type": "markdown",
   "metadata": {},
   "source": [
    "### Train, validation, test datasets"
   ]
  },
  {
   "cell_type": "code",
   "execution_count": 4,
   "metadata": {},
   "outputs": [
    {
     "name": "stderr",
     "output_type": "stream",
     "text": [
      "c:\\Users\\Chasing\\AppData\\Local\\Programs\\Python\\Python311\\Lib\\site-packages\\numpy\\core\\fromnumeric.py:59: FutureWarning: 'DataFrame.swapaxes' is deprecated and will be removed in a future version. Please use 'DataFrame.transpose' instead.\n",
      "  return bound(*args, **kwds)\n"
     ]
    }
   ],
   "source": [
    "train, valid, test = np.split(df.sample(frac=1), [int(0.6*len(df)), int(0.8*len(df))])\n",
    "\n",
    "def scale_dataset(dataframe, oversample=False):\n",
    "    X = dataframe[dataframe.columns[:-1]].values\n",
    "    y = dataframe[dataframe.columns[-1]].values\n",
    "    \n",
    "    scaler = StandardScaler()\n",
    "    X = scaler.fit_transform(X)\n",
    "    \n",
    "    if oversample:\n",
    "        ros = RandomOverSampler()\n",
    "        X, y = ros.fit_resample(X, y)\n",
    "    \n",
    "    data = np.hstack((X, np.reshape(y, (-1, 1))))\n",
    "    return data, X, y\n",
    "\n",
    "train, X_train, y_train = scale_dataset(train, oversample=True)\n",
    "valid, X_valid, y_valid = scale_dataset(valid, oversample=False)\n",
    "test, X_test, y_test = scale_dataset(test, oversample=False)"
   ]
  },
  {
   "cell_type": "markdown",
   "metadata": {},
   "source": [
    "### kNN"
   ]
  },
  {
   "cell_type": "code",
   "execution_count": 5,
   "metadata": {},
   "outputs": [
    {
     "name": "stdout",
     "output_type": "stream",
     "text": [
      "              precision    recall  f1-score   support\n",
      "\n",
      "           0       0.75      0.74      0.75      1310\n",
      "           1       0.87      0.87      0.87      2494\n",
      "\n",
      "    accuracy                           0.83      3804\n",
      "   macro avg       0.81      0.81      0.81      3804\n",
      "weighted avg       0.83      0.83      0.83      3804\n",
      "\n"
     ]
    }
   ],
   "source": [
    "from sklearn.neighbors import KNeighborsClassifier\n",
    "from sklearn.metrics import classification_report\n",
    "\n",
    "knn_model = KNeighborsClassifier(n_neighbors=7)\n",
    "knn_model.fit(X_train, y_train)\n",
    "\n",
    "y_pred = knn_model.predict(X_test)\n",
    "print(classification_report(y_test, y_pred))"
   ]
  },
  {
   "cell_type": "markdown",
   "metadata": {},
   "source": [
    "### Naive Bayes"
   ]
  },
  {
   "cell_type": "code",
   "execution_count": 6,
   "metadata": {},
   "outputs": [
    {
     "name": "stdout",
     "output_type": "stream",
     "text": [
      "              precision    recall  f1-score   support\n",
      "\n",
      "           0       0.64      0.40      0.50      1310\n",
      "           1       0.74      0.88      0.80      2494\n",
      "\n",
      "    accuracy                           0.72      3804\n",
      "   macro avg       0.69      0.64      0.65      3804\n",
      "weighted avg       0.71      0.72      0.70      3804\n",
      "\n"
     ]
    }
   ],
   "source": [
    "from sklearn.naive_bayes import GaussianNB\n",
    "\n",
    "nb_model = GaussianNB()\n",
    "nb_model = nb_model.fit(X_train, y_train)\n",
    "\n",
    "y_pred = nb_model.predict(X_test)\n",
    "print(classification_report(y_test, y_pred))"
   ]
  },
  {
   "cell_type": "markdown",
   "metadata": {},
   "source": [
    "### Log Regression\n"
   ]
  },
  {
   "cell_type": "code",
   "execution_count": 7,
   "metadata": {},
   "outputs": [
    {
     "name": "stdout",
     "output_type": "stream",
     "text": [
      "              precision    recall  f1-score   support\n",
      "\n",
      "           0       0.67      0.72      0.69      1310\n",
      "           1       0.85      0.82      0.83      2494\n",
      "\n",
      "    accuracy                           0.78      3804\n",
      "   macro avg       0.76      0.77      0.76      3804\n",
      "weighted avg       0.79      0.78      0.78      3804\n",
      "\n"
     ]
    }
   ],
   "source": [
    "from sklearn.linear_model import LogisticRegression\n",
    "\n",
    "lg_model = LogisticRegression()\n",
    "lg_model = lg_model.fit(X_train, y_train)\n",
    "\n",
    "y_pred = lg_model.predict(X_test)\n",
    "print(classification_report(y_test, y_pred))"
   ]
  },
  {
   "cell_type": "markdown",
   "metadata": {},
   "source": [
    "### SVM"
   ]
  },
  {
   "cell_type": "code",
   "execution_count": 8,
   "metadata": {},
   "outputs": [
    {
     "name": "stdout",
     "output_type": "stream",
     "text": [
      "              precision    recall  f1-score   support\n",
      "\n",
      "           0       0.79      0.80      0.79      1310\n",
      "           1       0.89      0.89      0.89      2494\n",
      "\n",
      "    accuracy                           0.86      3804\n",
      "   macro avg       0.84      0.84      0.84      3804\n",
      "weighted avg       0.86      0.86      0.86      3804\n",
      "\n"
     ]
    }
   ],
   "source": [
    "from sklearn.svm import SVC\n",
    "\n",
    "svm_model = SVC()\n",
    "svm_model = svm_model.fit(X_train, y_train)\n",
    "\n",
    "y_pred = svm_model.predict(X_test)\n",
    "print(classification_report(y_test, y_pred))"
   ]
  },
  {
   "cell_type": "markdown",
   "metadata": {},
   "source": [
    "### Neural Net"
   ]
  },
  {
   "cell_type": "code",
   "execution_count": 9,
   "metadata": {},
   "outputs": [
    {
     "name": "stdout",
     "output_type": "stream",
     "text": [
      "WARNING:tensorflow:From c:\\Users\\Chasing\\AppData\\Local\\Programs\\Python\\Python311\\Lib\\site-packages\\keras\\src\\losses.py:2976: The name tf.losses.sparse_softmax_cross_entropy is deprecated. Please use tf.compat.v1.losses.sparse_softmax_cross_entropy instead.\n",
      "\n"
     ]
    }
   ],
   "source": [
    "import tensorflow as tf\n",
    "\n",
    "def train_model(X_train, y_train, num_nodes, dropout_prob, lr, batch_size, epochs):\n",
    "    nn_model = tf.keras.Sequential([\n",
    "        tf.keras.layers.Dense(num_nodes, activation='relu', input_shape=(10,)),\n",
    "        tf.keras.layers.Dropout(dropout_prob),\n",
    "        tf.keras.layers.Dense(num_nodes, activation='relu'),\n",
    "        tf.keras.layers.Dropout(dropout_prob),\n",
    "        tf.keras.layers.Dense(1, activation='sigmoid')\n",
    "    ])\n",
    "\n",
    "    nn_model.compile(optimizer=tf.keras.optimizers.Adam(lr), loss='binary_crossentropy', metrics=['accuracy'])\n",
    "    history = nn_model.fit(\n",
    "    X_train, y_train, epochs=epochs, batch_size=batch_size, validation_split=0.2)\n",
    "\n",
    "    return nn_model, history\n",
    "\n",
    "def plot_history(history):\n",
    "    fig, (ax1, ax2) = plt.subplots(1, 2, figsize=(10, 4))\n",
    "    ax1.plot(history.history['loss'], label='loss')\n",
    "    ax1.plot(history.history['val_loss'], label='val_loss')\n",
    "    ax1.set_xlabel('Epoch')\n",
    "    ax1.set_ylabel('Binary crossentropy')\n",
    "    ax1.grid(True)\n",
    "\n",
    "    ax2.plot(history.history['accuracy'], label='accuracy')\n",
    "    ax2.plot(history.history['val_accuracy'], label='val_accuracy')\n",
    "    ax2.set_xlabel('Epoch')\n",
    "    ax2.set_ylabel('Accuracy')\n",
    "    ax2.grid(True)\n",
    "\n",
    "    plt.show()"
   ]
  },
  {
   "cell_type": "code",
   "execution_count": 10,
   "metadata": {},
   "outputs": [
    {
     "name": "stdout",
     "output_type": "stream",
     "text": [
      "WARNING:tensorflow:From c:\\Users\\Chasing\\AppData\\Local\\Programs\\Python\\Python311\\Lib\\site-packages\\keras\\src\\backend.py:873: The name tf.get_default_graph is deprecated. Please use tf.compat.v1.get_default_graph instead.\n",
      "\n",
      "Epoch 1/64\n",
      "WARNING:tensorflow:From c:\\Users\\Chasing\\AppData\\Local\\Programs\\Python\\Python311\\Lib\\site-packages\\keras\\src\\utils\\tf_utils.py:492: The name tf.ragged.RaggedTensorValue is deprecated. Please use tf.compat.v1.ragged.RaggedTensorValue instead.\n",
      "\n",
      "WARNING:tensorflow:From c:\\Users\\Chasing\\AppData\\Local\\Programs\\Python\\Python311\\Lib\\site-packages\\keras\\src\\engine\\base_layer_utils.py:384: The name tf.executing_eagerly_outside_functions is deprecated. Please use tf.compat.v1.executing_eagerly_outside_functions instead.\n",
      "\n",
      "1475/1475 [==============================] - 3s 1ms/step - loss: 0.4438 - accuracy: 0.7994 - val_loss: 0.6660 - val_accuracy: 0.6263\n",
      "Epoch 2/64\n",
      "1475/1475 [==============================] - 2s 1ms/step - loss: 0.3862 - accuracy: 0.8366 - val_loss: 0.6084 - val_accuracy: 0.6857\n",
      "Epoch 3/64\n",
      "1475/1475 [==============================] - 2s 1ms/step - loss: 0.3699 - accuracy: 0.8438 - val_loss: 0.5266 - val_accuracy: 0.7077\n",
      "Epoch 4/64\n",
      "1475/1475 [==============================] - 2s 1ms/step - loss: 0.3606 - accuracy: 0.8475 - val_loss: 0.4868 - val_accuracy: 0.7389\n",
      "Epoch 5/64\n",
      "1475/1475 [==============================] - 2s 1ms/step - loss: 0.3528 - accuracy: 0.8493 - val_loss: 0.4926 - val_accuracy: 0.7240\n",
      "Epoch 6/64\n",
      "1475/1475 [==============================] - 2s 1ms/step - loss: 0.3499 - accuracy: 0.8526 - val_loss: 0.4598 - val_accuracy: 0.7501\n",
      "Epoch 7/64\n",
      "1475/1475 [==============================] - 2s 1ms/step - loss: 0.3458 - accuracy: 0.8548 - val_loss: 0.5058 - val_accuracy: 0.7182\n",
      "Epoch 8/64\n",
      "1475/1475 [==============================] - 2s 1ms/step - loss: 0.3419 - accuracy: 0.8569 - val_loss: 0.5402 - val_accuracy: 0.7141\n",
      "Epoch 9/64\n",
      "1475/1475 [==============================] - 2s 1ms/step - loss: 0.3377 - accuracy: 0.8570 - val_loss: 0.5217 - val_accuracy: 0.6857\n",
      "Epoch 10/64\n",
      "1475/1475 [==============================] - 2s 1ms/step - loss: 0.3388 - accuracy: 0.8567 - val_loss: 0.5147 - val_accuracy: 0.7026\n",
      "Epoch 11/64\n",
      "1475/1475 [==============================] - 2s 1ms/step - loss: 0.3391 - accuracy: 0.8562 - val_loss: 0.5022 - val_accuracy: 0.7124\n",
      "Epoch 12/64\n",
      "1475/1475 [==============================] - 2s 1ms/step - loss: 0.3329 - accuracy: 0.8586 - val_loss: 0.4550 - val_accuracy: 0.7294\n",
      "Epoch 13/64\n",
      "1475/1475 [==============================] - 2s 1ms/step - loss: 0.3333 - accuracy: 0.8616 - val_loss: 0.4181 - val_accuracy: 0.7816\n",
      "Epoch 14/64\n",
      "1475/1475 [==============================] - 2s 1ms/step - loss: 0.3333 - accuracy: 0.8599 - val_loss: 0.4717 - val_accuracy: 0.7548\n",
      "Epoch 15/64\n",
      "1475/1475 [==============================] - 2s 1ms/step - loss: 0.3328 - accuracy: 0.8593 - val_loss: 0.5261 - val_accuracy: 0.7094\n",
      "Epoch 16/64\n",
      "1475/1475 [==============================] - 2s 1ms/step - loss: 0.3331 - accuracy: 0.8588 - val_loss: 0.4398 - val_accuracy: 0.7586\n",
      "Epoch 17/64\n",
      "1475/1475 [==============================] - 2s 1ms/step - loss: 0.3307 - accuracy: 0.8610 - val_loss: 0.4076 - val_accuracy: 0.7701\n",
      "Epoch 18/64\n",
      "1475/1475 [==============================] - 2s 1ms/step - loss: 0.3283 - accuracy: 0.8621 - val_loss: 0.5210 - val_accuracy: 0.7162\n",
      "Epoch 19/64\n",
      "1475/1475 [==============================] - 2s 1ms/step - loss: 0.3318 - accuracy: 0.8608 - val_loss: 0.4990 - val_accuracy: 0.7121\n",
      "Epoch 20/64\n",
      "1475/1475 [==============================] - 2s 1ms/step - loss: 0.3274 - accuracy: 0.8629 - val_loss: 0.4859 - val_accuracy: 0.7291\n",
      "Epoch 21/64\n",
      "1475/1475 [==============================] - 2s 1ms/step - loss: 0.3269 - accuracy: 0.8608 - val_loss: 0.5330 - val_accuracy: 0.6850\n",
      "Epoch 22/64\n",
      "1475/1475 [==============================] - 2s 1ms/step - loss: 0.3248 - accuracy: 0.8625 - val_loss: 0.5579 - val_accuracy: 0.7009\n",
      "Epoch 23/64\n",
      "1475/1475 [==============================] - 2s 1ms/step - loss: 0.3264 - accuracy: 0.8652 - val_loss: 0.5515 - val_accuracy: 0.6945\n",
      "Epoch 24/64\n",
      "1475/1475 [==============================] - 2s 1ms/step - loss: 0.3225 - accuracy: 0.8660 - val_loss: 0.4686 - val_accuracy: 0.7514\n",
      "Epoch 25/64\n",
      "1475/1475 [==============================] - 2s 1ms/step - loss: 0.3257 - accuracy: 0.8618 - val_loss: 0.4341 - val_accuracy: 0.7487\n",
      "Epoch 26/64\n",
      "1475/1475 [==============================] - 2s 1ms/step - loss: 0.3239 - accuracy: 0.8636 - val_loss: 0.5029 - val_accuracy: 0.7413\n",
      "Epoch 27/64\n",
      "1475/1475 [==============================] - 2s 1ms/step - loss: 0.3233 - accuracy: 0.8654 - val_loss: 0.4391 - val_accuracy: 0.7423\n",
      "Epoch 28/64\n",
      "1475/1475 [==============================] - 2s 1ms/step - loss: 0.3230 - accuracy: 0.8657 - val_loss: 0.4608 - val_accuracy: 0.7362\n",
      "Epoch 29/64\n",
      "1475/1475 [==============================] - 2s 1ms/step - loss: 0.3234 - accuracy: 0.8637 - val_loss: 0.5352 - val_accuracy: 0.7087\n",
      "Epoch 30/64\n",
      "1475/1475 [==============================] - 2s 1ms/step - loss: 0.3249 - accuracy: 0.8625 - val_loss: 0.4835 - val_accuracy: 0.7341\n",
      "Epoch 31/64\n",
      "1475/1475 [==============================] - 2s 1ms/step - loss: 0.3195 - accuracy: 0.8656 - val_loss: 0.4255 - val_accuracy: 0.7555\n",
      "Epoch 32/64\n",
      "1475/1475 [==============================] - 2s 1ms/step - loss: 0.3191 - accuracy: 0.8657 - val_loss: 0.4439 - val_accuracy: 0.7521\n",
      "Epoch 33/64\n",
      "1475/1475 [==============================] - 2s 1ms/step - loss: 0.3225 - accuracy: 0.8632 - val_loss: 0.4942 - val_accuracy: 0.7162\n",
      "Epoch 34/64\n",
      "1475/1475 [==============================] - 2s 1ms/step - loss: 0.3205 - accuracy: 0.8650 - val_loss: 0.4437 - val_accuracy: 0.7501\n",
      "Epoch 35/64\n",
      "1475/1475 [==============================] - 2s 1ms/step - loss: 0.3196 - accuracy: 0.8669 - val_loss: 0.4007 - val_accuracy: 0.7738\n",
      "Epoch 36/64\n",
      "1475/1475 [==============================] - 2s 1ms/step - loss: 0.3193 - accuracy: 0.8664 - val_loss: 0.4494 - val_accuracy: 0.7413\n",
      "Epoch 37/64\n",
      "1475/1475 [==============================] - 2s 1ms/step - loss: 0.3181 - accuracy: 0.8664 - val_loss: 0.4856 - val_accuracy: 0.7138\n",
      "Epoch 38/64\n",
      "1475/1475 [==============================] - 2s 1ms/step - loss: 0.3182 - accuracy: 0.8697 - val_loss: 0.4621 - val_accuracy: 0.7338\n",
      "Epoch 39/64\n",
      "1475/1475 [==============================] - 2s 1ms/step - loss: 0.3178 - accuracy: 0.8669 - val_loss: 0.4403 - val_accuracy: 0.7406\n",
      "Epoch 40/64\n",
      "1475/1475 [==============================] - 2s 1ms/step - loss: 0.3195 - accuracy: 0.8664 - val_loss: 0.4199 - val_accuracy: 0.7643\n",
      "Epoch 41/64\n",
      "1475/1475 [==============================] - 2s 1ms/step - loss: 0.3168 - accuracy: 0.8653 - val_loss: 0.4891 - val_accuracy: 0.7308\n",
      "Epoch 42/64\n",
      "1475/1475 [==============================] - 2s 1ms/step - loss: 0.3191 - accuracy: 0.8650 - val_loss: 0.4676 - val_accuracy: 0.7165\n",
      "Epoch 43/64\n",
      "1475/1475 [==============================] - 2s 1ms/step - loss: 0.3153 - accuracy: 0.8683 - val_loss: 0.4596 - val_accuracy: 0.7453\n",
      "Epoch 44/64\n",
      "1475/1475 [==============================] - 2s 1ms/step - loss: 0.3180 - accuracy: 0.8655 - val_loss: 0.4694 - val_accuracy: 0.7335\n",
      "Epoch 45/64\n",
      "1475/1475 [==============================] - 2s 1ms/step - loss: 0.3132 - accuracy: 0.8698 - val_loss: 0.4449 - val_accuracy: 0.7443\n",
      "Epoch 46/64\n",
      "1475/1475 [==============================] - 2s 1ms/step - loss: 0.3195 - accuracy: 0.8681 - val_loss: 0.3937 - val_accuracy: 0.7887\n",
      "Epoch 47/64\n",
      "1475/1475 [==============================] - 2s 1ms/step - loss: 0.3152 - accuracy: 0.8665 - val_loss: 0.4281 - val_accuracy: 0.7464\n",
      "Epoch 48/64\n",
      "1475/1475 [==============================] - 2s 1ms/step - loss: 0.3166 - accuracy: 0.8665 - val_loss: 0.4391 - val_accuracy: 0.7569\n",
      "Epoch 49/64\n",
      "1475/1475 [==============================] - 2s 1ms/step - loss: 0.3162 - accuracy: 0.8666 - val_loss: 0.4701 - val_accuracy: 0.7209\n",
      "Epoch 50/64\n",
      "1475/1475 [==============================] - 2s 1ms/step - loss: 0.3194 - accuracy: 0.8709 - val_loss: 0.4548 - val_accuracy: 0.7481\n",
      "Epoch 51/64\n",
      "1475/1475 [==============================] - 2s 1ms/step - loss: 0.3163 - accuracy: 0.8675 - val_loss: 0.4072 - val_accuracy: 0.7626\n",
      "Epoch 52/64\n",
      "1475/1475 [==============================] - 2s 1ms/step - loss: 0.3183 - accuracy: 0.8645 - val_loss: 0.4600 - val_accuracy: 0.7345\n",
      "Epoch 53/64\n",
      "1475/1475 [==============================] - 2s 1ms/step - loss: 0.3135 - accuracy: 0.8707 - val_loss: 0.4478 - val_accuracy: 0.7511\n",
      "Epoch 54/64\n",
      "1475/1475 [==============================] - 2s 1ms/step - loss: 0.3102 - accuracy: 0.8681 - val_loss: 0.4105 - val_accuracy: 0.7708\n",
      "Epoch 55/64\n",
      "1475/1475 [==============================] - 2s 1ms/step - loss: 0.3153 - accuracy: 0.8679 - val_loss: 0.4819 - val_accuracy: 0.7311\n",
      "Epoch 56/64\n",
      "1475/1475 [==============================] - 2s 1ms/step - loss: 0.3137 - accuracy: 0.8682 - val_loss: 0.4210 - val_accuracy: 0.7596\n",
      "Epoch 57/64\n",
      "1475/1475 [==============================] - 2s 1ms/step - loss: 0.3147 - accuracy: 0.8699 - val_loss: 0.4325 - val_accuracy: 0.7501\n",
      "Epoch 58/64\n",
      "1475/1475 [==============================] - 2s 1ms/step - loss: 0.3170 - accuracy: 0.8697 - val_loss: 0.4470 - val_accuracy: 0.7467\n",
      "Epoch 59/64\n",
      "1475/1475 [==============================] - 2s 1ms/step - loss: 0.3135 - accuracy: 0.8672 - val_loss: 0.4106 - val_accuracy: 0.7664\n",
      "Epoch 60/64\n",
      "1475/1475 [==============================] - 2s 1ms/step - loss: 0.3147 - accuracy: 0.8690 - val_loss: 0.4400 - val_accuracy: 0.7443\n",
      "Epoch 61/64\n",
      "1475/1475 [==============================] - 2s 1ms/step - loss: 0.3147 - accuracy: 0.8671 - val_loss: 0.4625 - val_accuracy: 0.7348\n",
      "Epoch 62/64\n",
      "1475/1475 [==============================] - 2s 1ms/step - loss: 0.3148 - accuracy: 0.8688 - val_loss: 0.4885 - val_accuracy: 0.6985\n",
      "Epoch 63/64\n",
      "1475/1475 [==============================] - 2s 1ms/step - loss: 0.3141 - accuracy: 0.8692 - val_loss: 0.4340 - val_accuracy: 0.7487\n",
      "Epoch 64/64\n",
      "1475/1475 [==============================] - 2s 1ms/step - loss: 0.3134 - accuracy: 0.8694 - val_loss: 0.4646 - val_accuracy: 0.7447\n"
     ]
    }
   ],
   "source": [
    "nn_model, history = train_model(X_train, y_train, 32, 0.2, 0.002, 8, 64) \n"
   ]
  },
  {
   "cell_type": "code",
   "execution_count": 12,
   "metadata": {},
   "outputs": [
    {
     "data": {
      "image/png": "[encoded data removed]",
      "text/plain": [
       "<Figure size 1000x400 with 2 Axes>"
      ]
     },
     "metadata": {},
     "output_type": "display_data"
    }
   ],
   "source": [
    "plot_history(history)"
   ]
  }
 ],
 "metadata": {
  "kernelspec": {
   "display_name": "Python 3",
   "language": "python",
   "name": "python3"
  },
  "language_info": {
   "codemirror_mode": {
    "name": "ipython",
    "version": 3
   },
   "file_extension": ".py",
   "mimetype": "text/x-python",
   "name": "python",
   "nbconvert_exporter": "python",
   "pygments_lexer": "ipython3",
   "version": "3.11.5"
  }
 },
 "nbformat": 4,
 "nbformat_minor": 2
}
